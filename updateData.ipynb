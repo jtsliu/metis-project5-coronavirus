{
 "cells": [
  {
   "cell_type": "code",
   "execution_count": 1,
   "metadata": {},
   "outputs": [],
   "source": [
    "import pandas as pd"
   ]
  },
  {
   "cell_type": "code",
   "execution_count": 35,
   "metadata": {},
   "outputs": [],
   "source": [
    "def updateData(state, date):\n",
    "    old_df = pd.read_csv(f'tweets/tweets_compressed/coronavirus_{state}_tweets.txt', engine='python')\n",
    "    new_df_json = pd.read_json(f'tweets/tweets_{date}/coronavirus_{state}_tweets_{date}.txt', lines=True)\n",
    "    \n",
    "    new_df = new_df_json[['id_str', 'created_at', 'full_text', \n",
    "                 'possibly_sensitive', 'display_text_range', \n",
    "                 'favorite_count', 'retweet_count']].copy()\n",
    "    \n",
    "    new_df['character_count'] = new_df['display_text_range'].apply(lambda x: x[-1])\n",
    "    new_df = pd.concat([new_df, new_df_json['entities'].apply(pd.Series)], axis=1)\n",
    "    \n",
    "    new_df['hashtags_count'] = new_df['hashtags'].apply(lambda x: len(x))\n",
    "    new_df['symbols_count'] = new_df['symbols'].apply(lambda x: len(x))\n",
    "    new_df['urls_count'] = new_df['urls'].apply(lambda x: len(x))\n",
    "    new_df['user_mentions_count'] = new_df['user_mentions'].apply(lambda x: len(x))\n",
    "    \n",
    "    new_df.drop(['hashtags', 'symbols', 'urls', \n",
    "                 'user_mentions', 'media'],\n",
    "                axis=1, inplace=True)\n",
    "    \n",
    "    new_df.append(old_df, ignore_index=True)\n",
    "    new_df.to_csv(f'tweets/tweets_updated/coronavirus_{state}_tweets_updated', index=False)"
   ]
  },
  {
   "cell_type": "code",
   "execution_count": 23,
   "metadata": {},
   "outputs": [],
   "source": [
    "state_list = ['california', 'colorado', 'florida', \n",
    "              'georgia', 'idaho', 'illinois', \n",
    "              'louisiana', 'massachusetts', 'newyork',\n",
    "              'tennessee', 'texas', 'washington']"
   ]
  },
  {
   "cell_type": "code",
   "execution_count": 33,
   "metadata": {},
   "outputs": [],
   "source": [
    "state_list = ['newyork']"
   ]
  },
  {
   "cell_type": "code",
   "execution_count": 36,
   "metadata": {},
   "outputs": [
    {
     "name": "stdout",
     "output_type": "stream",
     "text": [
      "newyork is updated\n"
     ]
    }
   ],
   "source": [
    "for state in state_list:\n",
    "    updateData(state, '2020_03_22')\n",
    "    print(f'{state} is updated')"
   ]
  },
  {
   "cell_type": "code",
   "execution_count": null,
   "metadata": {},
   "outputs": [],
   "source": []
  }
 ],
 "metadata": {
  "kernelspec": {
   "display_name": "Python 3",
   "language": "python",
   "name": "python3"
  },
  "language_info": {
   "codemirror_mode": {
    "name": "ipython",
    "version": 3
   },
   "file_extension": ".py",
   "mimetype": "text/x-python",
   "name": "python",
   "nbconvert_exporter": "python",
   "pygments_lexer": "ipython3",
   "version": "3.7.6"
  }
 },
 "nbformat": 4,
 "nbformat_minor": 4
}
