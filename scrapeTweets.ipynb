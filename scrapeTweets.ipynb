{
 "cells": [
  {
   "cell_type": "markdown",
   "metadata": {},
   "source": [
    "`GetOldTweets3` doesn't return the geotag, will try to use `twitterscraper` to see if it works better"
   ]
  },
  {
   "cell_type": "code",
   "execution_count": null,
   "metadata": {},
   "outputs": [],
   "source": [
    "# GetOldTweets3 --querysearch \"coronavirus\" --lang en  --since 2019-12-29 --until 2020-01-06 --maxtweets 10000"
   ]
  },
  {
   "cell_type": "code",
   "execution_count": null,
   "metadata": {
    "ExecuteTime": {
     "end_time": "2020-03-17T06:17:51.119799Z",
     "start_time": "2020-03-17T06:17:50.827819Z"
    }
   },
   "outputs": [],
   "source": [
    "import datetime as dt\n",
    "import pandas as pd\n",
    "import time\n",
    "from random import randint"
   ]
  },
  {
   "cell_type": "code",
   "execution_count": null,
   "metadata": {
    "ExecuteTime": {
     "end_time": "2020-03-17T06:17:52.053238Z",
     "start_time": "2020-03-17T06:17:51.662677Z"
    }
   },
   "outputs": [],
   "source": [
    "from twitterscraper import query_tweets"
   ]
  },
  {
   "cell_type": "code",
   "execution_count": null,
   "metadata": {
    "ExecuteTime": {
     "end_time": "2020-03-17T06:17:52.311575Z",
     "start_time": "2020-03-17T06:17:52.309127Z"
    }
   },
   "outputs": [],
   "source": [
    "queries = ['coronavirus', '#coronavirus', 'chinesevirus', '#stayhomechallenge',\n",
    "            '#covid', '#covid-19', 'covid-19']"
   ]
  },
  {
   "cell_type": "code",
   "execution_count": null,
   "metadata": {
    "ExecuteTime": {
     "end_time": "2020-03-17T06:17:53.427504Z",
     "start_time": "2020-03-17T06:17:53.421330Z"
    }
   },
   "outputs": [],
   "source": [
    "def retrieveTweets(query, limit, start_date, end_date, file_name):\n",
    "    '''\n",
    "    inputs\n",
    "    ---\n",
    "    query: \n",
    "    limit:\n",
    "    start_date: \n",
    "    end_date: not inclusive\n",
    "    file_name: \n",
    "    '''\n",
    "    try:\n",
    "        tweet_list = query_tweets(query, limit=limit, begindate=start_date, enddate=end_date, lang='en')\n",
    "        df = pd.DataFrame(t.__dict__ for t in tweet_list)\n",
    "        df.to_pickle(file_name)\n",
    "        print(f'Wrote to {file_name} successfully at {dt.datetime.now()}')\n",
    "    except:\n",
    "        print(f'Failed to write to {file_name}')\n",
    "        retrieveTweets(query, limit, start_date, end_date, file_name)"
   ]
  },
  {
   "cell_type": "code",
   "execution_count": null,
   "metadata": {
    "ExecuteTime": {
     "end_time": "2020-03-17T06:17:53.925310Z",
     "start_time": "2020-03-17T06:17:53.919222Z"
    }
   },
   "outputs": [],
   "source": [
    "# start_dates = [dt.date(2019, 12, 29), dt.date(2020, 1, 5), dt.date(2020, 1, 12), dt.date(2020, 1, 19),\n",
    "#               dt.date(2020, 1, 26), dt.date(2020, 2, 2), dt.date(2020, 2, 9), dt.date(2020, 2, 16),\n",
    "#               dt.date(2020, 2, 23), dt.date(2020, 3, 1), dt.date(2020, 3, 8)]\n",
    "# end_dates = [dt.date(2020, 1, 5), dt.date(2020, 1, 12), dt.date(2020, 1, 19), dt.date(2020, 1, 26), \n",
    "#             dt.date(2020, 2, 2), dt.date(2020, 2, 9), dt.date(2020, 2, 16), dt.date(2020, 2, 23), \n",
    "#             dt.date(2020, 3, 1), dt.date(2020, 3, 8), dt.date(2020, 3, 15)]\n",
    "\n",
    "\n",
    "start_dates = [dt.date(2020, 1, 19),\n",
    "              dt.date(2020, 1, 26), dt.date(2020, 2, 2), dt.date(2020, 2, 9), dt.date(2020, 2, 16),\n",
    "              dt.date(2020, 2, 23), dt.date(2020, 3, 1), dt.date(2020, 3, 8)]\n",
    "end_dates = [dt.date(2020, 1, 26), \n",
    "            dt.date(2020, 2, 2), dt.date(2020, 2, 9), dt.date(2020, 2, 16), dt.date(2020, 2, 23), \n",
    "            dt.date(2020, 3, 1), dt.date(2020, 3, 8), dt.date(2020, 3, 15)]"
   ]
  },
  {
   "cell_type": "code",
   "execution_count": null,
   "metadata": {
    "ExecuteTime": {
     "start_time": "2020-03-17T06:17:55.399Z"
    }
   },
   "outputs": [],
   "source": [
    "for query in queries:\n",
    "    for i, start_date in enumerate(start_dates): \n",
    "        retrieveTweets(query, 10000, start_date, end_dates[i], f'{query}_{start_date}.pkl')\n",
    "        time.sleep(randint(10,100))"
   ]
  },
  {
   "cell_type": "code",
   "execution_count": null,
   "metadata": {},
   "outputs": [],
   "source": []
  }
 ],
 "metadata": {
  "kernelspec": {
   "display_name": "Python 3",
   "language": "python",
   "name": "python3"
  },
  "language_info": {
   "codemirror_mode": {
    "name": "ipython",
    "version": 3
   },
   "file_extension": ".py",
   "mimetype": "text/x-python",
   "name": "python",
   "nbconvert_exporter": "python",
   "pygments_lexer": "ipython3",
   "version": "3.7.6"
  },
  "toc": {
   "base_numbering": 1,
   "nav_menu": {},
   "number_sections": true,
   "sideBar": true,
   "skip_h1_title": false,
   "title_cell": "Table of Contents",
   "title_sidebar": "Contents",
   "toc_cell": false,
   "toc_position": {},
   "toc_section_display": true,
   "toc_window_display": false
  }
 },
 "nbformat": 4,
 "nbformat_minor": 4
}
