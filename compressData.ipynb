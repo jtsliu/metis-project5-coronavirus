{
 "cells": [
  {
   "cell_type": "code",
   "execution_count": 1,
   "metadata": {
    "ExecuteTime": {
     "end_time": "2020-03-19T20:43:07.994998Z",
     "start_time": "2020-03-19T20:43:07.547569Z"
    }
   },
   "outputs": [],
   "source": [
    "import pandas as pd"
   ]
  },
  {
   "cell_type": "code",
   "execution_count": 7,
   "metadata": {
    "ExecuteTime": {
     "end_time": "2020-03-19T20:50:20.428645Z",
     "start_time": "2020-03-19T20:50:20.421175Z"
    }
   },
   "outputs": [],
   "source": [
    "def compressData(file_name):\n",
    "    df = pd.read_json(file_name, lines=True)\n",
    "    new_df = df[['id_str', 'created_at', 'full_text', \n",
    "                 'possibly_sensitive', 'display_text_range', \n",
    "                 'favorite_count', 'retweet_count']].copy()\n",
    "    \n",
    "    new_df['character_count'] = new_df['display_text_range'].apply(lambda x: x[-1])\n",
    "    new_df = pd.concat([new_df, df['entities'].apply(pd.Series)], axis=1)\n",
    "    \n",
    "    new_df['hashtags_count'] = new_df['hashtags'].apply(lambda x: len(x))\n",
    "    new_df['symbols_count'] = new_df['symbols'].apply(lambda x: len(x))\n",
    "    new_df['urls_count'] = new_df['urls'].apply(lambda x: len(x))\n",
    "    new_df['user_mentions_count'] = new_df['user_mentions'].apply(lambda x: len(x))\n",
    "    \n",
    "    new_df.drop(['hashtags', 'symbols', 'urls', \n",
    "                 'user_mentions', 'media'],\n",
    "                axis=1, inplace=True)\n",
    "    \n",
    "    # new_df.to_csv(file_name[7:], index=False, header=False)\n",
    "    new_df.to_csv(file_name[7:], index=False)\n",
    "    "
   ]
  },
  {
   "cell_type": "code",
   "execution_count": 12,
   "metadata": {
    "ExecuteTime": {
     "end_time": "2020-03-20T00:46:28.199578Z",
     "start_time": "2020-03-20T00:46:28.194117Z"
    }
   },
   "outputs": [],
   "source": [
    "state_list = ['california', 'florida', 'massachusetts',\n",
    "              'newyork', 'washington', 'tennessee',\n",
    "              'texas', 'louisiana', 'illinois',\n",
    "              'colorado', 'georgia', 'idaho']"
   ]
  },
  {
   "cell_type": "code",
   "execution_count": 11,
   "metadata": {
    "ExecuteTime": {
     "end_time": "2020-03-20T00:42:09.237710Z",
     "start_time": "2020-03-19T23:46:17.867852Z"
    }
   },
   "outputs": [
    {
     "name": "stdout",
     "output_type": "stream",
     "text": [
      "california is converted\n",
      "florida is converted\n",
      "newyork is converted\n",
      "washington is converted\n",
      "tennessee is converted\n",
      "texas is converted\n",
      "louisiana is converted\n",
      "illinois is converted\n",
      "colorado is converted\n",
      "georgia is converted\n",
      "idaho is converted\n"
     ]
    }
   ],
   "source": [
    "for state in state_list:\n",
    "    convertToCSV(f'tweets/coronavirus_{state}_tweets.txt')\n",
    "    print(f'{state} is converted')"
   ]
  },
  {
   "cell_type": "code",
   "execution_count": null,
   "metadata": {},
   "outputs": [],
   "source": []
  }
 ],
 "metadata": {
  "kernelspec": {
   "display_name": "Python 3",
   "language": "python",
   "name": "python3"
  },
  "language_info": {
   "codemirror_mode": {
    "name": "ipython",
    "version": 3
   },
   "file_extension": ".py",
   "mimetype": "text/x-python",
   "name": "python",
   "nbconvert_exporter": "python",
   "pygments_lexer": "ipython3",
   "version": "3.7.6"
  },
  "toc": {
   "base_numbering": 1,
   "nav_menu": {},
   "number_sections": true,
   "sideBar": true,
   "skip_h1_title": false,
   "title_cell": "Table of Contents",
   "title_sidebar": "Contents",
   "toc_cell": false,
   "toc_position": {},
   "toc_section_display": true,
   "toc_window_display": false
  }
 },
 "nbformat": 4,
 "nbformat_minor": 4
}
